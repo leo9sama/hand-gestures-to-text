{
 "cells": [
  {
   "cell_type": "code",
   "execution_count": 2,
   "metadata": {},
   "outputs": [
    {
     "name": "stdout",
     "output_type": "stream",
     "text": [
      "Collecting data for class 0\n",
      "Collecting data for class 1\n",
      "Collecting data for class 2\n"
     ]
    }
   ],
   "source": [
    "import os\n",
    "\n",
    "import cv2\n",
    "\n",
    "DATA_DIR = r'F:\\tensorls\\sign language CNN 2\\images'\n",
    "\n",
    "number_of_classes = 3\n",
    "dataset_size = 100\n",
    "\n",
    "cap = cv2.VideoCapture(0)\n",
    "for j in range(number_of_classes):\n",
    "    if not os.path.exists(os.path.join(DATA_DIR, str(j))):\n",
    "        os.makedirs(os.path.join(DATA_DIR, str(j)))\n",
    "\n",
    "    print('Collecting data for class {}'.format(j))\n",
    "\n",
    "    done = False\n",
    "    while True:\n",
    "        ret, frame = cap.read()\n",
    "        cv2.putText(frame, 'Ready? Press \"Q\" ! :)', (100, 50), cv2.FONT_HERSHEY_SIMPLEX, 1.3, (0, 255, 0), 3,\n",
    "                    cv2.LINE_AA)\n",
    "        cv2.imshow('frame', frame)\n",
    "        if cv2.waitKey(25) == ord('q'):\n",
    "            break\n",
    "\n",
    "    counter = 0\n",
    "    while counter < dataset_size:\n",
    "        ret, frame = cap.read()\n",
    "        cv2.imshow('frame', frame)\n",
    "        cv2.waitKey(25)\n",
    "        cv2.imwrite(os.path.join(DATA_DIR, str(j), '{}.jpg'.format(counter)), frame)\n",
    "\n",
    "        counter += 1\n",
    "\n",
    "cap.release()\n",
    "cv2.destroyAllWindows()"
   ]
  },
  {
   "cell_type": "code",
   "execution_count": 2,
   "metadata": {},
   "outputs": [],
   "source": [
    "import os \n",
    "import mediapipe as mp\n",
    "import matplotlib.pyplot as plt\n",
    "import cv2 as cv\n",
    "import pickle"
   ]
  },
  {
   "cell_type": "code",
   "execution_count": 3,
   "metadata": {},
   "outputs": [],
   "source": [
    "mp_hands = mp.solutions.hands\n",
    "mp_drawing = mp.solutions.drawing_utils\n",
    "mp_drawing_styles = mp.solutions.drawing_styles\n",
    "\n",
    "\n",
    "hands = mp_hands.Hands(static_image_mode=True,min_detection_confidence=0.3)\n"
   ]
  },
  {
   "cell_type": "markdown",
   "metadata": {},
   "source": [
    "land marks on hands "
   ]
  },
  {
   "cell_type": "code",
   "execution_count": null,
   "metadata": {},
   "outputs": [],
   "source": [
    "DATA_DIR = r'F:\\tensorls\\sign language using random forest & test CNN\\images'\n",
    "\n",
    "for dir_ in os.listdir(DATA_DIR):\n",
    "    for img_path in os.listdir(os.path.join(DATA_DIR,dir_))[:1]:\n",
    "        img = cv.imread(os.path.join(DATA_DIR,dir_,img_path))\n",
    "        img_rgb = cv.cvtColor(img,cv.COLOR_BGR2RGB)\n",
    "\n",
    "        results = hands.process(img_rgb)\n",
    "\n",
    "        if results.multi_hand_landmarks:\n",
    "            for hand_landmarks in results.multi_hand_landmarks:\n",
    "                 mp_drawing.draw_landmarks(img_rgb,hand_landmarks,mp_hands.HAND_CONNECTIONS,\n",
    "                                      \n",
    "                                      mp_drawing_styles.get_default_hand_landmarks_style(),\n",
    "                                      mp_drawing_styles.get_default_hand_connections_style()\n",
    "                                      \n",
    "                                      )\n",
    "\n",
    "        plt.figure()\n",
    "        plt.imshow(img_rgb)\n",
    "plt.show()  \n"
   ]
  },
  {
   "cell_type": "markdown",
   "metadata": {},
   "source": [
    "Arrays of lands marks needed\n",
    "\n",
    "then saved into a file "
   ]
  },
  {
   "cell_type": "code",
   "execution_count": 4,
   "metadata": {},
   "outputs": [],
   "source": [
    "DATA_DIR = r'F:\\tensorls\\sign language using random forest & test CNN\\images'\n",
    "\n",
    "data=[]\n",
    "labels=[]\n",
    "\n",
    "for dir_ in os.listdir(DATA_DIR):\n",
    "    for img_path in os.listdir(os.path.join(DATA_DIR,dir_)):\n",
    "        img = cv.imread(os.path.join(DATA_DIR,dir_,img_path))\n",
    "        img_rgb = cv.cvtColor(img,cv.COLOR_BGR2RGB)\n",
    "\n",
    "        data_aux=[]\n",
    "        results = hands.process(img_rgb)\n",
    "\n",
    "        if results.multi_hand_landmarks:\n",
    "            for hand_landmarks in results.multi_hand_landmarks:\n",
    "                 for i in range(len(hand_landmarks.landmark)):\n",
    "                     x= hand_landmarks.landmark[i].x\n",
    "                     y = hand_landmarks.landmark[i].y\n",
    "\n",
    "                     data_aux.append(x)\n",
    "                     data_aux.append(y)\n",
    "\n",
    "            data.append(data_aux)\n",
    "            labels.append(dir_)\n",
    "\n",
    "f = open('data1.pickle','wb')\n",
    "pickle.dump({'data':data,'labels':labels},f)\n",
    "f.close()"
   ]
  },
  {
   "cell_type": "markdown",
   "metadata": {},
   "source": [
    "using a  CNN "
   ]
  },
  {
   "cell_type": "code",
   "execution_count": 4,
   "metadata": {},
   "outputs": [],
   "source": [
    "import tensorflow \n",
    "import numpy as np\n",
    "from keras.layers import Conv2D, Dropout,MaxPooling2D,Dense,GlobalAveragePooling2D,Flatten\n",
    "from keras.models import Sequential\n",
    "from keras.losses import CategoricalCrossentropy\n",
    "\n",
    "from sklearn.model_selection import train_test_split\n",
    "from keras.callbacks import EarlyStopping\n"
   ]
  },
  {
   "cell_type": "code",
   "execution_count": 5,
   "metadata": {},
   "outputs": [],
   "source": [
    "import pickle\n",
    "import numpy as np\n",
    "from sklearn.model_selection import train_test_split\n",
    "\n",
    "\n",
    "with open('data.pickle', 'rb') as f:\n",
    "    data_dict = pickle.load(f)\n",
    "\n",
    "data = data_dict['data']\n",
    "labels = data_dict['labels']\n",
    "\n",
    "X = np.array(data)\n",
    "y = np.array(labels)\n",
    "\n",
    "X_train, X_test, y_train, y_test = train_test_split(X, y, test_size=0.2, random_state=42)\n",
    "\n",
    "from sklearn.preprocessing import LabelEncoder\n",
    "\n",
    "label_encoder = LabelEncoder()\n",
    "y_train = label_encoder.fit_transform(y_train)\n",
    "y_test = label_encoder.transform(y_test)\n",
    "\n",
    "\n",
    "model = Sequential([\n",
    "    Dense(128, input_dim=X.shape[1], activation='relu'),\n",
    "    Dense(64, activation='relu'),\n",
    "    Dense(len(set(y)), activation='softmax')  \n",
    "])\n",
    "\n",
    "\n",
    "\n"
   ]
  },
  {
   "cell_type": "code",
   "execution_count": 6,
   "metadata": {},
   "outputs": [],
   "source": [
    "model.compile(optimizer='adam', loss='sparse_categorical_crossentropy', metrics=['accuracy'])\n"
   ]
  },
  {
   "cell_type": "code",
   "execution_count": 7,
   "metadata": {},
   "outputs": [
    {
     "name": "stdout",
     "output_type": "stream",
     "text": [
      "Epoch 1/20\n",
      "8/8 [==============================] - 2s 78ms/step - loss: 1.0608 - accuracy: 0.4667 - val_loss: 1.0210 - val_accuracy: 0.6833\n",
      "Epoch 2/20\n",
      "8/8 [==============================] - 0s 14ms/step - loss: 0.9958 - accuracy: 0.7000 - val_loss: 0.9574 - val_accuracy: 1.0000\n",
      "Epoch 3/20\n",
      "8/8 [==============================] - 0s 14ms/step - loss: 0.9299 - accuracy: 1.0000 - val_loss: 0.8913 - val_accuracy: 1.0000\n",
      "Epoch 4/20\n",
      "8/8 [==============================] - 0s 13ms/step - loss: 0.8643 - accuracy: 1.0000 - val_loss: 0.8178 - val_accuracy: 1.0000\n",
      "Epoch 5/20\n",
      "8/8 [==============================] - 0s 14ms/step - loss: 0.7811 - accuracy: 1.0000 - val_loss: 0.7155 - val_accuracy: 1.0000\n",
      "Epoch 6/20\n",
      "8/8 [==============================] - 0s 14ms/step - loss: 0.6922 - accuracy: 1.0000 - val_loss: 0.6340 - val_accuracy: 1.0000\n",
      "Epoch 7/20\n",
      "8/8 [==============================] - 0s 13ms/step - loss: 0.6008 - accuracy: 1.0000 - val_loss: 0.5302 - val_accuracy: 1.0000\n",
      "Epoch 8/20\n",
      "8/8 [==============================] - 0s 14ms/step - loss: 0.5044 - accuracy: 1.0000 - val_loss: 0.4340 - val_accuracy: 1.0000\n",
      "Epoch 9/20\n",
      "8/8 [==============================] - 0s 11ms/step - loss: 0.4097 - accuracy: 1.0000 - val_loss: 0.3448 - val_accuracy: 1.0000\n",
      "Epoch 10/20\n",
      "8/8 [==============================] - 0s 12ms/step - loss: 0.3230 - accuracy: 1.0000 - val_loss: 0.2633 - val_accuracy: 1.0000\n",
      "Epoch 11/20\n",
      "8/8 [==============================] - 0s 9ms/step - loss: 0.2505 - accuracy: 1.0000 - val_loss: 0.2059 - val_accuracy: 1.0000\n",
      "Epoch 12/20\n",
      "8/8 [==============================] - 0s 9ms/step - loss: 0.1918 - accuracy: 1.0000 - val_loss: 0.1553 - val_accuracy: 1.0000\n",
      "Epoch 13/20\n",
      "8/8 [==============================] - 0s 10ms/step - loss: 0.1475 - accuracy: 1.0000 - val_loss: 0.1174 - val_accuracy: 1.0000\n",
      "Epoch 14/20\n",
      "8/8 [==============================] - 0s 9ms/step - loss: 0.1158 - accuracy: 1.0000 - val_loss: 0.0918 - val_accuracy: 1.0000\n",
      "Epoch 15/20\n",
      "8/8 [==============================] - 0s 10ms/step - loss: 0.0903 - accuracy: 1.0000 - val_loss: 0.0732 - val_accuracy: 1.0000\n",
      "Epoch 16/20\n",
      "8/8 [==============================] - 0s 10ms/step - loss: 0.0713 - accuracy: 1.0000 - val_loss: 0.0574 - val_accuracy: 1.0000\n",
      "Epoch 17/20\n",
      "8/8 [==============================] - 0s 9ms/step - loss: 0.0559 - accuracy: 1.0000 - val_loss: 0.0453 - val_accuracy: 1.0000\n",
      "Epoch 18/20\n",
      "8/8 [==============================] - 0s 9ms/step - loss: 0.0454 - accuracy: 1.0000 - val_loss: 0.0377 - val_accuracy: 1.0000\n",
      "Epoch 19/20\n",
      "8/8 [==============================] - 0s 14ms/step - loss: 0.0375 - accuracy: 1.0000 - val_loss: 0.0305 - val_accuracy: 1.0000\n",
      "Epoch 20/20\n",
      "8/8 [==============================] - 0s 9ms/step - loss: 0.0308 - accuracy: 1.0000 - val_loss: 0.0258 - val_accuracy: 1.0000\n"
     ]
    },
    {
     "data": {
      "text/plain": [
       "<keras.src.callbacks.History at 0x1b44e999b10>"
      ]
     },
     "execution_count": 7,
     "metadata": {},
     "output_type": "execute_result"
    }
   ],
   "source": [
    "model.fit(X_train, y_train, epochs=20, batch_size=32, validation_data=(X_test, y_test))\n"
   ]
  },
  {
   "cell_type": "code",
   "execution_count": 8,
   "metadata": {},
   "outputs": [],
   "source": [
    "f = open('sequenece_model.p','wb')\n",
    "pickle.dump({'model':model},f)\n",
    "f.close()"
   ]
  },
  {
   "cell_type": "markdown",
   "metadata": {},
   "source": [
    "using random forest"
   ]
  },
  {
   "cell_type": "code",
   "execution_count": 4,
   "metadata": {},
   "outputs": [],
   "source": [
    "import numpy as np\n",
    "from sklearn.ensemble import RandomForestClassifier\n",
    "from sklearn.metrics import accuracy_score\n",
    "from sklearn.model_selection import train_test_split"
   ]
  },
  {
   "cell_type": "code",
   "execution_count": 5,
   "metadata": {},
   "outputs": [],
   "source": [
    "data_dict = pickle.load(open('data1.pickle','rb'))\n",
    "\n",
    "data = np.asarray(data_dict['data'])\n",
    "labels = np.asarray(data_dict['labels'])\n",
    "\n"
   ]
  },
  {
   "cell_type": "markdown",
   "metadata": {},
   "source": [
    "Training the model and saving it "
   ]
  },
  {
   "cell_type": "code",
   "execution_count": 7,
   "metadata": {},
   "outputs": [],
   "source": [
    "X_train,X_test,y_train,y_test = train_test_split(data,labels,test_size=0.2,shuffle=True,stratify=labels)\n",
    "\n",
    "model  = RandomForestClassifier()\n",
    "\n",
    "model.fit(X_train,y_train)\n",
    "\n",
    "y_predict = model.predict(X_test)\n",
    "\n",
    "\n",
    "score = accuracy_score(y_predict,y_test)\n",
    "\n",
    "score\n",
    "\n",
    "f = open('model1.p','wb')\n",
    "pickle.dump({'model':model},f)\n",
    "f.close()"
   ]
  },
  {
   "cell_type": "markdown",
   "metadata": {},
   "source": [
    "testing the model Random Forest"
   ]
  },
  {
   "cell_type": "code",
   "execution_count": 6,
   "metadata": {},
   "outputs": [],
   "source": [
    "import cv2 as cv"
   ]
  },
  {
   "cell_type": "code",
   "execution_count": 7,
   "metadata": {},
   "outputs": [],
   "source": [
    "model_dict = pickle.load(open('model1.p','rb'))\n",
    "model = model_dict['model']\n",
    "\n",
    "\n",
    "labels_dict = {0:'Hello',1:'Peace',2:'Rock'}\n",
    "\n",
    "cap = cv.VideoCapture(0)\n",
    "\n",
    "mp_hands = mp.solutions.hands\n",
    "mp_drawing = mp.solutions.drawing_utils\n",
    "mp_drawing_styles = mp.solutions.drawing_styles\n",
    "\n",
    "\n",
    "hands = mp_hands.Hands(static_image_mode=True,min_detection_confidence=0.3)\n",
    "\n",
    "\n",
    "while True:\n",
    "    data_aux=[]\n",
    "    x_ = []\n",
    "    y_ = []\n",
    "\n",
    "    ret,frame = cap.read()\n",
    "\n",
    "    frame_rgb = cv.cvtColor(frame,cv.COLOR_BGR2RGB)\n",
    "\n",
    "    results = hands.process(frame_rgb)\n",
    "\n",
    "    if results.multi_hand_landmarks:\n",
    "            for hand_landmarks in results.multi_hand_landmarks:\n",
    "                 \n",
    "                 mp_drawing.draw_landmarks(frame,hand_landmarks,mp_hands.HAND_CONNECTIONS,\n",
    "                                      \n",
    "                                      mp_drawing_styles.get_default_hand_landmarks_style(),\n",
    "                                      mp_drawing_styles.get_default_hand_connections_style()\n",
    "                                      \n",
    "                 )\n",
    "                 \n",
    "            for hand_landmarks in results.multi_hand_landmarks:\n",
    "                 for i in range(len(hand_landmarks.landmark)):\n",
    "                     x= hand_landmarks.landmark[i].x\n",
    "                     y = hand_landmarks.landmark[i].y\n",
    "\n",
    "                     data_aux.append(x)\n",
    "                     data_aux.append(y)\n",
    "                     x_.append(x)\n",
    "                     y_.append(y)\n",
    "\n",
    "            H,W,_ = frame.shape\n",
    "\n",
    "            x1 = int(min(x_)*W)          \n",
    "            y1 = int(min(y_)*H)\n",
    "\n",
    "            x2 = int(max(x_)*W)\n",
    "            y2 = int(max(y_) *H)     \n",
    "\n",
    "            prediction = model.predict([np.asarray(data_aux)])\n",
    "            predicted_character = labels_dict[int(prediction[0])]\n",
    "\n",
    "            cv.rectangle(frame,(x1,y1),(x2,y2),(0,0,0),4)\n",
    "\n",
    "            cv.putText(frame,predicted_character,(x1,y1),cv.FONT_HERSHEY_COMPLEX,1.3,(0,128,0),3)\n",
    "                               \n",
    "\n",
    "    \n",
    "    cv.imshow('frame',frame)\n",
    "    if cv.waitKey(1) & 0xFF == ord('q'):\n",
    "        break\n",
    "\n",
    "cap.release()\n",
    "cv.destroyAllWindows()\n",
    "\n"
   ]
  },
  {
   "cell_type": "markdown",
   "metadata": {},
   "source": [
    "CNN model test"
   ]
  },
  {
   "cell_type": "code",
   "execution_count": null,
   "metadata": {},
   "outputs": [],
   "source": [
    "model_dict = pickle.load(open('sequenece_model.p','rb'))\n",
    "model = model_dict['model']\n",
    "\n",
    "\n",
    "labels_dict = {0:'A',1:'B',2:'L'}\n",
    "\n",
    "cap = cv.VideoCapture(0)\n",
    "\n",
    "mp_hands = mp.solutions.hands\n",
    "mp_drawing = mp.solutions.drawing_utils\n",
    "mp_drawing_styles = mp.solutions.drawing_styles\n",
    "\n",
    "\n",
    "hands = mp_hands.Hands(static_image_mode=True,min_detection_confidence=0.3)\n",
    "\n",
    "\n",
    "while True:\n",
    "    data_aux=[]\n",
    "    x_ = []\n",
    "    y_ = []\n",
    "\n",
    "    ret,frame = cap.read()\n",
    "\n",
    "    frame_rgb = cv.cvtColor(frame,cv.COLOR_BGR2RGB)\n",
    "\n",
    "    results = hands.process(frame_rgb)\n",
    "\n",
    "    if results.multi_hand_landmarks:\n",
    "            for hand_landmarks in results.multi_hand_landmarks:\n",
    "                 \n",
    "                 mp_drawing.draw_landmarks(frame,hand_landmarks,mp_hands.HAND_CONNECTIONS,\n",
    "                                      \n",
    "                                      mp_drawing_styles.get_default_hand_landmarks_style(),\n",
    "                                      mp_drawing_styles.get_default_hand_connections_style()\n",
    "                                      \n",
    "                 )\n",
    "                 \n",
    "            for hand_landmarks in results.multi_hand_landmarks:\n",
    "                 for i in range(len(hand_landmarks.landmark)):\n",
    "                     x= hand_landmarks.landmark[i].x\n",
    "                     y = hand_landmarks.landmark[i].y\n",
    "\n",
    "                     data_aux.append(x)\n",
    "                     data_aux.append(y)\n",
    "                     x_.append(x)\n",
    "                     y_.append(y)\n",
    "\n",
    "            H,W,_ = frame.shape\n",
    "\n",
    "            x1 = int(min(x_)*W)          \n",
    "            y1 = int(min(y_)*H)\n",
    "\n",
    "            x2 = int(max(x_)*W)\n",
    "            y2 = int(max(y_) *H)     \n",
    "            data_aux = np.array(data_aux).reshape(1, -1)\n",
    "\n",
    "            prediction = model.predict(data_aux)\n",
    "\n",
    "            predicted_classes = np.argmax(prediction, axis=1)\n",
    "            predicted_characters = [labels_dict[class_idx] for class_idx in predicted_classes]\n",
    "            predicted_characters_str = ', '.join(predicted_characters)\n",
    "\n",
    "\n",
    "\n",
    "            cv.rectangle(frame,(x1,y1),(x2,y2),(0,0,0),4)\n",
    "\n",
    "            cv.putText(frame, predicted_characters_str, (x1, y1), cv.FONT_HERSHEY_COMPLEX, 1.3, (0, 0, 0), 3)\n",
    "\n",
    "                               \n",
    "\n",
    "    \n",
    "    cv.imshow('frame',frame)\n",
    "    if cv.waitKey(1) & 0xFF == ord('q'):\n",
    "        break\n",
    "\n",
    "cap.release()\n",
    "cv.destroyAllWindows()\n",
    "\n"
   ]
  },
  {
   "cell_type": "code",
   "execution_count": null,
   "metadata": {},
   "outputs": [],
   "source": []
  }
 ],
 "metadata": {
  "kernelspec": {
   "display_name": "yolov5",
   "language": "python",
   "name": "python3"
  },
  "language_info": {
   "codemirror_mode": {
    "name": "ipython",
    "version": 3
   },
   "file_extension": ".py",
   "mimetype": "text/x-python",
   "name": "python",
   "nbconvert_exporter": "python",
   "pygments_lexer": "ipython3",
   "version": "3.11.4"
  }
 },
 "nbformat": 4,
 "nbformat_minor": 2
}
